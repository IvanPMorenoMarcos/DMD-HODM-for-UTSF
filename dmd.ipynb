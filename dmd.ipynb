{
  "nbformat": 4,
  "nbformat_minor": 0,
  "metadata": {
    "colab": {
      "name": "dmd.ipynb",
      "provenance": [],
      "collapsed_sections": []
    },
    "kernelspec": {
      "name": "python3",
      "display_name": "Python 3"
    },
    "language_info": {
      "name": "python"
    }
  },
  "cells": [
    {
      "cell_type": "code",
      "metadata": {
        "colab": {
          "base_uri": "https://localhost:8080/"
        },
        "id": "ebSsYznSsCb4",
        "outputId": "79b4e39f-c779-412d-b7df-bb91592b7b31"
      },
      "source": [
        "# install depedencies\n",
        "!pip install pydmd"
      ],
      "execution_count": 1,
      "outputs": [
        {
          "output_type": "stream",
          "text": [
            "Collecting pydmd\n",
            "  Downloading https://files.pythonhosted.org/packages/2a/16/083a13fa25c2af7b095e50bc5c00b69af9f7771b1e55c32cbf2da5da7d71/pydmd-0.3.3-py3-none-any.whl\n",
            "Requirement already satisfied: matplotlib in /usr/local/lib/python3.7/dist-packages (from pydmd) (3.2.2)\n",
            "Requirement already satisfied: scipy in /usr/local/lib/python3.7/dist-packages (from pydmd) (1.4.1)\n",
            "Requirement already satisfied: numpy in /usr/local/lib/python3.7/dist-packages (from pydmd) (1.19.5)\n",
            "Requirement already satisfied: future in /usr/local/lib/python3.7/dist-packages (from pydmd) (0.16.0)\n",
            "Requirement already satisfied: kiwisolver>=1.0.1 in /usr/local/lib/python3.7/dist-packages (from matplotlib->pydmd) (1.3.1)\n",
            "Requirement already satisfied: pyparsing!=2.0.4,!=2.1.2,!=2.1.6,>=2.0.1 in /usr/local/lib/python3.7/dist-packages (from matplotlib->pydmd) (2.4.7)\n",
            "Requirement already satisfied: cycler>=0.10 in /usr/local/lib/python3.7/dist-packages (from matplotlib->pydmd) (0.10.0)\n",
            "Requirement already satisfied: python-dateutil>=2.1 in /usr/local/lib/python3.7/dist-packages (from matplotlib->pydmd) (2.8.1)\n",
            "Requirement already satisfied: six in /usr/local/lib/python3.7/dist-packages (from cycler>=0.10->matplotlib->pydmd) (1.15.0)\n",
            "Installing collected packages: pydmd\n",
            "Successfully installed pydmd-0.3.3\n"
          ],
          "name": "stdout"
        }
      ]
    },
    {
      "cell_type": "code",
      "metadata": {
        "id": "IGKbi_rImywX"
      },
      "source": [
        "# import all dependencies\n",
        "import pandas as pd\n",
        "import matplotlib.pyplot as plt\n",
        "import numpy as np\n",
        "from pydmd import DMD"
      ],
      "execution_count": 8,
      "outputs": []
    },
    {
      "cell_type": "code",
      "metadata": {
        "id": "XeahRlT1k8od",
        "colab": {
          "base_uri": "https://localhost:8080/"
        },
        "outputId": "18fa3b26-c597-4056-dbda-5ab6438d163f"
      },
      "source": [
        "# import files from google drive\n",
        "from google.colab import drive\n",
        "drive.mount('/content/drive')"
      ],
      "execution_count": 9,
      "outputs": [
        {
          "output_type": "stream",
          "text": [
            "Drive already mounted at /content/drive; to attempt to forcibly remount, call drive.mount(\"/content/drive\", force_remount=True).\n"
          ],
          "name": "stdout"
        }
      ]
    },
    {
      "cell_type": "code",
      "metadata": {
        "colab": {
          "base_uri": "https://localhost:8080/"
        },
        "id": "aVqv2JaJmbyM",
        "outputId": "436b0c8b-0fda-49a1-87f5-7b5069e001ae"
      },
      "source": [
        "# load data\n",
        "series = pd.read_csv('/content/drive/My Drive/Dynamic-Mode-Decomposition/airline_passengers.csv', index_col=0, header=0, parse_dates=True, squeeze=True)\n",
        "print(series)"
      ],
      "execution_count": 10,
      "outputs": [
        {
          "output_type": "stream",
          "text": [
            "Month\n",
            "1949-01-01    112\n",
            "1949-02-01    118\n",
            "1949-03-01    132\n",
            "1949-04-01    129\n",
            "1949-05-01    121\n",
            "             ... \n",
            "1960-08-01    606\n",
            "1960-09-01    508\n",
            "1960-10-01    461\n",
            "1960-11-01    390\n",
            "1960-12-01    432\n",
            "Name: Passengers, Length: 144, dtype: int64\n"
          ],
          "name": "stdout"
        }
      ]
    },
    {
      "cell_type": "code",
      "metadata": {
        "id": "-8aS6d2toQNn"
      },
      "source": [
        "# plot data\n",
        "series.plot(figsize=(12, 5))\n",
        "plt.show()"
      ],
      "execution_count": 12,
      "outputs": []
    },
    {
      "cell_type": "code",
      "metadata": {
        "colab": {
          "base_uri": "https://localhost:8080/"
        },
        "id": "lPLWAFLKpYn6",
        "outputId": "4b02e78c-4ee5-42d4-af2a-bd5b53155528"
      },
      "source": [
        "# split data into a training and validation datasets\n",
        "split_point = len(series) - 12\n",
        "training, validation = series[0:split_point], series[split_point:]\n",
        "print(f'Training {len(training)}, Validation {len(validation)}')\n",
        "training.to_csv('/content/drive/My Drive/Dynamic-Mode-Decomposition/airline_passengers_training.csv', header=False)\n",
        "validation.to_csv('/content/drive/My Drive/Dynamic-Mode-Decomposition/airline_passengers_validation.csv', header=False)"
      ],
      "execution_count": 13,
      "outputs": [
        {
          "output_type": "stream",
          "text": [
            "Training 132, Validation 12\n"
          ],
          "name": "stdout"
        }
      ]
    },
    {
      "cell_type": "code",
      "metadata": {
        "colab": {
          "base_uri": "https://localhost:8080/"
        },
        "id": "vvpZnGF0stA5",
        "outputId": "4ccfe2d6-0c48-4610-d256-4d99486cbf14"
      },
      "source": [
        "# load training dataset\n",
        "training = pd.read_csv('/content/drive/My Drive/Dynamic-Mode-Decomposition/airline_passengers_training.csv', index_col=0, header=None, parse_dates=True, squeeze=True)\n",
        "print(training.values)"
      ],
      "execution_count": 14,
      "outputs": [
        {
          "output_type": "stream",
          "text": [
            "[112 118 132 129 121 135 148 148 136 119 104 118 115 126 141 135 125 149\n",
            " 170 170 158 133 114 140 145 150 178 163 172 178 199 199 184 162 146 166\n",
            " 171 180 193 181 183 218 230 242 209 191 172 194 196 196 236 235 229 243\n",
            " 264 272 237 211 180 201 204 188 235 227 234 264 302 293 259 229 203 229\n",
            " 242 233 267 269 270 315 364 347 312 274 237 278 284 277 317 313 318 374\n",
            " 413 405 355 306 271 306 315 301 356 348 355 422 465 467 404 347 305 336\n",
            " 340 318 362 348 363 435 491 505 404 359 310 337 360 342 406 396 420 472\n",
            " 548 559 463 407 362 405]\n"
          ],
          "name": "stdout"
        }
      ]
    },
    {
      "cell_type": "code",
      "metadata": {
        "colab": {
          "base_uri": "https://localhost:8080/"
        },
        "id": "3QWvnJe4rqSM",
        "outputId": "0513ac79-5a2d-4d09-fa99-ff5458d41ab8"
      },
      "source": [
        "# create and fit a DMD model\n",
        "dmd = DMD(svd_rank=-1,\n",
        "          opt=False,\n",
        "          exact=False,\n",
        "          rescale_mode='auto',\n",
        "          forward_backward=True,\n",
        "          tlsq_rank=1)\n",
        "dmd.fit(training.values)"
      ],
      "execution_count": 15,
      "outputs": [
        {
          "output_type": "execute_result",
          "data": {
            "text/plain": [
              "<pydmd.dmd.DMD at 0x7f5acc829410>"
            ]
          },
          "metadata": {
            "tags": []
          },
          "execution_count": 15
        }
      ]
    },
    {
      "cell_type": "code",
      "metadata": {
        "id": "6AQH07CwOjlW",
        "colab": {
          "base_uri": "https://localhost:8080/"
        },
        "outputId": "89efb589-abdf-49f4-8d34-c42f86101818"
      },
      "source": [
        "x = training.values\n",
        "#print(type(x))\n",
        "#print(x)\n",
        "x = x.reshape((132,1))\n",
        "#print(x.shape)\n",
        "#print(x)\n",
        "x_test = x[131].reshape((1,1))\n",
        "#print(x_test.shape)\n",
        "yhat = dmd.predict(x_test)\n",
        "print(x[131])\n",
        "print(yhat)\n",
        "print(dmd.reconstructed_data.real[0])"
      ],
      "execution_count": 16,
      "outputs": [
        {
          "output_type": "stream",
          "text": [
            "[405]\n",
            "[[407.95117607]]\n",
            "[112.         112.8161277  113.63820241 114.46626746 115.30036649\n",
            " 116.14054349 116.98684273 117.83930883 118.69798673 119.56292168\n",
            " 120.4341593  121.31174549 122.19572653 123.08614901 123.98305987\n",
            " 124.88650639 125.79653619 126.71319724 127.63653787 128.56660675\n",
            " 129.50345291 130.44712573 131.39767495 132.35515069 133.31960342\n",
            " 134.29108397 135.26964356 136.25533377 137.24820656 138.24831427\n",
            " 139.25570962 140.27044571 141.29257604 142.32215448 143.35923532\n",
            " 144.4038732  145.45612322 146.51604082 147.58368189 148.65910271\n",
            " 149.74235996 150.83351075 151.93261259 153.03972344 154.15490163\n",
            " 155.27820597 156.40969566 157.54943036 158.69747013 159.85387551\n",
            " 161.01870744 162.19202733 163.37389703 164.56437885 165.76353553\n",
            " 166.9714303  168.18812682 169.41368922 170.64818213 171.8916706\n",
            " 173.14422019 174.40589693 175.67676733 176.95689837 178.24635754\n",
            " 179.54521281 180.85353265 182.17138603 183.49884241 184.83597178\n",
            " 186.18284461 187.53953191 188.90610519 190.28263649 191.66919838\n",
            " 193.06586394 194.47270679 195.88980111 197.31722159 198.75504347\n",
            " 200.20334255 201.66219518 203.13167826 204.61186924 206.10284616\n",
            " 207.60468761 209.11747276 210.64128136 212.17619372 213.72229078\n",
            " 215.27965401 216.84836553 218.42850801 220.02016477 221.6234197\n",
            " 223.23835731 224.86506274 226.50362173 228.15412066 229.81664654\n",
            " 231.49128701 233.17813033 234.87726544 236.5887819  238.31276993\n",
            " 240.04932041 241.79852488 243.56047554 245.33526529 247.12298767\n",
            " 248.92373692 250.73760798 252.56469644 254.40509864 256.25891157\n",
            " 258.12623298 260.00716128 261.90179563 263.81023591 265.73258271\n",
            " 267.66893737 269.61940197 271.58407933 273.56307299 275.5564873\n",
            " 277.56442733 279.58699893 281.62430871 283.67646407 285.74357318\n",
            " 287.82574503 289.92308935]\n"
          ],
          "name": "stdout"
        }
      ]
    },
    {
      "cell_type": "code",
      "metadata": {
        "id": "i5OS1mZCTggm"
      },
      "source": [
        "x = training.values\n",
        "x = x.reshape((132,1))\n",
        "forecasts = []\n",
        "for i in range(len(x)):\n",
        "    x_i = x[i].reshape((1,1))\n",
        "    yhat = dmd.predict(x_i)\n",
        "    forecasts.append(yhat)\n",
        "forecasts = np.array(forecasts).ravel()"
      ],
      "execution_count": 17,
      "outputs": []
    },
    {
      "cell_type": "code",
      "metadata": {
        "id": "98Rd3EbJu7-p"
      },
      "source": [
        "train_idx = np.linspace(0, len(training), len(training))\n",
        "#print(len(train_idx))\n",
        "#print(training.values)\n",
        "#print(dmd.original_timesteps)\n",
        "#print(dmd.dmd_timesteps)\n",
        "#print(len(dmd.reconstructed_data.real[0]))"
      ],
      "execution_count": 18,
      "outputs": []
    },
    {
      "cell_type": "code",
      "metadata": {
        "id": "oH7w54XFtzIp"
      },
      "source": [
        "# plot predictions on training data\n",
        "#train_idx = np.linspace(0, len(training), len(training))\n",
        "#dmd.original_time['dt'] = dmd.dmd_time['dt'] = train_idx[1] - train_idx[0]\n",
        "#dmd.original_time['t0'] = dmd.dmd_time['t0'] = train_idx[0]\n",
        "#dmd.original_time['tend'] = dmd.dmd_time['tend'] = train_idx[-1]\n",
        "plt.plot(training.values, label='Actuals')\n",
        "plt.plot(forecasts, label='Predictions')\n",
        "plt.legend()\n",
        "plt.show()"
      ],
      "execution_count": 19,
      "outputs": []
    }
  ]
}